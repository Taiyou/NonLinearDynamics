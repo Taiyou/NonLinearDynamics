{
 "cells": [
  {
   "cell_type": "markdown",
   "metadata": {},
   "source": [
    "# Question1. As you observed in Homework 5.4, forward and backward Euler both make errors.  Combining the two of them, however, can be surprisingly effective.  Implement a solver that averages a forward and backward Euler step:\n"
   ]
  },
  {
   "cell_type": "markdown",
   "metadata": {},
   "source": [
    "\\begin{eqnarray}\n",
    " x(t+\\Delta{t} ) = x(t) + \\frac{\\Delta t}{2} [f(x(t)) + f(x_{FE}(t+\\Delta t))]\n",
    "\\end{eqnarray}"
   ]
  },
  {
   "cell_type": "markdown",
   "metadata": {},
   "source": [
    "Here, $x_{FE}(t+\\Delta t)$ is the result of applying one step of the forward Euler algorithm starting from  with time step Δt.  This method averages the slope at that point with the slope at the original point and uses that averaged slope to move forward.  This is sometimes called the trapezoidal method in the literature."
   ]
  },
  {
   "cell_type": "markdown",
   "metadata": {},
   "source": [
    "(a) Use this solver to generate a trajectory of the simple harmonic oscillator ODEs with k = 2, m = 0.5, and β = 0.  Start from the initial condition [x(t = 0), v(t = 0)]T = [-1, -2]T with a time step Δt = 0.1.  What is [x(t = 0.5), v(t = 0.5)]T?"
   ]
  },
  {
   "cell_type": "code",
   "execution_count": 1,
   "metadata": {
    "collapsed": true
   },
   "outputs": [],
   "source": [
    "import numpy as np\n",
    "import matplotlib.pyplot as plt"
   ]
  },
  {
   "cell_type": "code",
   "execution_count": 2,
   "metadata": {
    "collapsed": true
   },
   "outputs": [],
   "source": [
    "def SHO(input, k, m):\n",
    "    return np.array([input[1], -input[0]*k/m])"
   ]
  },
  {
   "cell_type": "code",
   "execution_count": 3,
   "metadata": {
    "collapsed": true
   },
   "outputs": [],
   "source": [
    "# initial setups\n",
    "k = 2; m = 0.5; dt = 0.1;\n",
    "t= 0; inputs = np.array([-1,-2]);\n",
    "TimeStep = 5;"
   ]
  },
  {
   "cell_type": "code",
   "execution_count": 4,
   "metadata": {
    "collapsed": false
   },
   "outputs": [],
   "source": [
    "def trapezoidal(inputs, k, m, dt, t,TimeStep):\n",
    "    results = np.zeros((TimeStep, 2));\n",
    "    \n",
    "    for t in range(TimeStep):\n",
    "        forward_input = SHO(inputs + dt*SHO(inputs,k,m), k, m);\n",
    "        inputs = inputs + dt/2*(SHO(inputs,k,m) + forward_input);\n",
    "        results[t, :] = inputs;\n",
    "        t = dt + t\n",
    "\n",
    "    return inputs, results"
   ]
  },
  {
   "cell_type": "code",
   "execution_count": 5,
   "metadata": {
    "collapsed": false
   },
   "outputs": [
    {
     "data": {
      "text/plain": [
       "(array([-1.38114016,  0.62114433]), array([[-1.18      , -1.56      ],\n",
       "        [-1.3124    , -1.0568    ],\n",
       "        [-1.391832  , -0.510704  ],\n",
       "        [-1.41506576,  0.05624288],\n",
       "        [-1.38114016,  0.62114433]]))"
      ]
     },
     "execution_count": 5,
     "metadata": {},
     "output_type": "execute_result"
    }
   ],
   "source": [
    "trapezoidal(inputs,k,m,dt,t,TimeStep)"
   ]
  },
  {
   "cell_type": "markdown",
   "metadata": {},
   "source": [
    "# Answer: -1.38114016,  0.62114433"
   ]
  },
  {
   "cell_type": "markdown",
   "metadata": {},
   "source": [
    "# (b) Generate a 500-point trajectory of the same ODE system from [x(t = 0), v(t = 0)]T = [-1, -2]T with a time step of Δt = 0.01.  Which of the following describes this trajectory?"
   ]
  },
  {
   "cell_type": "code",
   "execution_count": 6,
   "metadata": {
    "collapsed": true
   },
   "outputs": [],
   "source": [
    "# initial setups\n",
    "k = 2; m = 0.5; dt = 0.01;\n",
    "t= 0; inputs = np.array([-1,-2]);\n",
    "TimeStep = 500;"
   ]
  },
  {
   "cell_type": "code",
   "execution_count": 7,
   "metadata": {
    "collapsed": true
   },
   "outputs": [],
   "source": [
    "inputs, results = trapezoidal(inputs,k,m,dt,t,TimeStep);"
   ]
  },
  {
   "cell_type": "code",
   "execution_count": 8,
   "metadata": {
    "collapsed": false
   },
   "outputs": [
    {
     "data": {
      "text/plain": [
       "[<matplotlib.lines.Line2D at 0x1062339d0>]"
      ]
     },
     "execution_count": 8,
     "metadata": {},
     "output_type": "execute_result"
    }
   ],
   "source": [
    "plt.plot(results[:,0], results[:,1])"
   ]
  },
  {
   "cell_type": "code",
   "execution_count": 9,
   "metadata": {
    "collapsed": false
   },
   "outputs": [
    {
     "data": {
      "image/png": "[encoded data removed]",
      "text/plain": [
       "<matplotlib.figure.Figure at 0x10610f650>"
      ]
     },
     "metadata": {},
     "output_type": "display_data"
    }
   ],
   "source": [
    "plt.show()"
   ]
  },
  {
   "cell_type": "markdown",
   "metadata": {},
   "source": [
    "# (c) Remember that the simple harmonic oscillator has no damping (friction).  Keeping this in mind, does the trajectory that you generated in part (b) of this problem seem more accurate than the trajectory computed by either your forward or backward Euler code from Homework 5.4?"
   ]
  },
  {
   "cell_type": "markdown",
   "metadata": {},
   "source": [
    "# Answer: True"
   ]
  },
  {
   "cell_type": "markdown",
   "metadata": {},
   "source": [
    "# (d) Now generate a 5000-point trajectory of the same ODE system from [x(t = 0), v(t = 0)]T = [-1, -2]T with a time step of Δt = 0.01.  How is this plot qualitatively different than the plot you generated in part (b)?"
   ]
  },
  {
   "cell_type": "code",
   "execution_count": 10,
   "metadata": {
    "collapsed": true
   },
   "outputs": [],
   "source": [
    "# initial setups\n",
    "k = 2; m = 0.5; dt = 0.01;\n",
    "t= 0; inputs = np.array([-1,-2]);\n",
    "TimeStep = 5000;"
   ]
  },
  {
   "cell_type": "code",
   "execution_count": 11,
   "metadata": {
    "collapsed": true
   },
   "outputs": [],
   "source": [
    "inputs, results = trapezoidal(inputs,k,m,dt,t,TimeStep);"
   ]
  },
  {
   "cell_type": "code",
   "execution_count": 12,
   "metadata": {
    "collapsed": false
   },
   "outputs": [
    {
     "data": {
      "text/plain": [
       "[<matplotlib.lines.Line2D at 0x1064d0350>]"
      ]
     },
     "execution_count": 12,
     "metadata": {},
     "output_type": "execute_result"
    }
   ],
   "source": [
    "plt.plot(results[:,0], results[:,1])"
   ]
  },
  {
   "cell_type": "code",
   "execution_count": 13,
   "metadata": {
    "collapsed": false
   },
   "outputs": [
    {
     "data": {
      "image/png": "[encoded data removed]",
      "text/plain": [
       "<matplotlib.figure.Figure at 0x10626d410>"
      ]
     },
     "metadata": {},
     "output_type": "display_data"
    }
   ],
   "source": [
    "plt.show()"
   ]
  },
  {
   "cell_type": "markdown",
   "metadata": {},
   "source": [
    "# Answer: A. The trajectory has \"fattened,\" taking up more space"
   ]
  },
  {
   "cell_type": "markdown",
   "metadata": {},
   "source": [
    "# (e) What could be the cause of this difference?"
   ]
  },
  {
   "cell_type": "markdown",
   "metadata": {},
   "source": [
    "# Answer: B. Numerical error is violating the conservation of energy property of a SHO with β = 0; since this system is a conservative system a symplectic integrator should be used."
   ]
  },
  {
   "cell_type": "code",
   "execution_count": null,
   "metadata": {
    "collapsed": true
   },
   "outputs": [],
   "source": []
  }
 ],
 "metadata": {
  "anaconda-cloud": {},
  "kernelspec": {
   "display_name": "Python [conda root]",
   "language": "python",
   "name": "conda-root-py"
  },
  "language_info": {
   "codemirror_mode": {
    "name": "ipython",
    "version": 2
   },
   "file_extension": ".py",
   "mimetype": "text/x-python",
   "name": "python",
   "nbconvert_exporter": "python",
   "pygments_lexer": "ipython2",
   "version": "2.7.12"
  }
 },
 "nbformat": 4,
 "nbformat_minor": 1
}
