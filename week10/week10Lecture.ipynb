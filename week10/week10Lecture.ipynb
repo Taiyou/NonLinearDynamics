{
 "cells": [
  {
   "cell_type": "markdown",
   "metadata": {},
   "source": [
    "# 10.1 Prediction"
   ]
  },
  {
   "cell_type": "markdown",
   "metadata": {},
   "source": [
    "# predicting the path of a roulette ball...."
   ]
  },
  {
   "cell_type": "markdown",
   "metadata": {},
   "source": [
    "- embed data in a model\n",
    "- local-liner patch models \n",
    "- (Sauer model)"
   ]
  },
  {
   "cell_type": "markdown",
   "metadata": {},
   "source": [
    "# The Santa Fe competition\n",
    "- Weigend & Gershenfeld, 1992\n",
    "- put a bunch of data sets up on an ftp server\n",
    "- and invited all comers to predict their future\n",
    "- chronicled in \"Time Series Prediction\"\n"
   ]
  },
  {
   "cell_type": "markdown",
   "metadata": {},
   "source": [
    "# understanding nonlinear dynamics gives your more precise prediction than traditional machine learnings. (not sure currently though)\n",
    "# nearest neighbor relationship is sensitive to noises"
   ]
  },
  {
   "cell_type": "markdown",
   "metadata": {},
   "source": [
    "# Section Quiz 10.1"
   ]
  },
  {
   "cell_type": "markdown",
   "metadata": {},
   "source": [
    "# Q1. What was the first step in the UC Santa Cruz Chaos Cabal's prediction strategy (after they gathered the data)?\n",
    "## A. Perform a fast Fourier transform (FFT).\n",
    "## B. Plot the attractor and compute its Lyapunov exponent.\n",
    "## C. Perform a delay-coordinate embedding of the data.\n",
    "## Answer: C. Perform a delay-coordinate embedding of the data."
   ]
  },
  {
   "cell_type": "markdown",
   "metadata": {},
   "source": [
    "# Q2. A neural net-based method worked better than a nonlinear dynamics-based method on SFI dataset A in the long term.\n",
    "# Answer: False"
   ]
  },
  {
   "cell_type": "markdown",
   "metadata": {},
   "source": [
    "# Q3. How does Lorenz's method of analogues work?\n",
    "## A. Given a known trajectory of a dynamical system and a point in that state space, it looks for the point's nearest neighbor in the known trajectory, then uses the next point in the trajectory as the forecast of where that point will go next.\n",
    "## B. Given a series of measurements of a single state variable x of a dynamical system and a value  of that state variable, it looks for the value in the measured series that is closest to , then uses the next measurement in the sequence as the forecast of where that point will go next.\n",
    "## C. Given a known trajectory of a dynamical system and a point in that state space, it looks for the point's k nearest neighbors in the known trajectory, then averages them and uses that point as the forecast.\n",
    "## Answer: A."
   ]
  },
  {
   "cell_type": "markdown",
   "metadata": {},
   "source": [
    "# 10.2 Control of chaos"
   ]
  },
  {
   "cell_type": "markdown",
   "metadata": {},
   "source": [
    "# - Local-linear control of a saddle point works in a region defined by the cross-sectional eigenstructure, together with the actuator capabilities."
   ]
  },
  {
   "cell_type": "markdown",
   "metadata": {},
   "source": [
    "# OGY control\n",
    "- dense attractor coverage -> reachability\n",
    "- un/stable manifold structure + UPO dsensess + local-linear control -> controllability\n",
    "- exploit sensitive dependence, too?? -> targeting"
   ]
  },
  {
   "cell_type": "markdown",
   "metadata": {},
   "source": [
    "# Other cool ways to use invariant manifolds\n",
    "- want t get a spacecraft onton a \"halo orbit\", which is a UPO of the dynamics.\n",
    "- Unstable Periodic Orbits (UPOs) have invariant manifolds.\n",
    "- Stable invariant manifolds ($W^s$)\n",
    "    - The set of all trajectories a particle could use to arrive onto the UPO.\n",
    "- Unstable invariant manifold ($W^U$)\n",
    "    - The set of all trajectories a particle could take after a small perturbation from the UPO."
   ]
  },
  {
   "cell_type": "markdown",
   "metadata": {},
   "source": [
    "# Section Quiz 10.2"
   ]
  },
  {
   "cell_type": "markdown",
   "metadata": {},
   "source": [
    "# Q1. A negative-feedback controller like a thermostat works by measuring the difference between the actual state x of the system and the desired state  of the system (the 'setpoint'). If that quantity ($x-\\hat{x}$) is negative, it turns down the heat.\n",
    "## Answer: False.\n",
    "## Solution. Increase the heat."
   ]
  },
  {
   "cell_type": "markdown",
   "metadata": {},
   "source": [
    "# Q2. OGY control can be used to balance a chaotic system on one of its unstable periodic orbits.\n",
    "## Answer: True"
   ]
  },
  {
   "cell_type": "markdown",
   "metadata": {},
   "source": [
    "# Q3. The denseness with which any trajectory in the basin covers a chaotic attractor plays a critical role in OGY control.\n",
    "## Answer: True"
   ]
  },
  {
   "cell_type": "markdown",
   "metadata": {},
   "source": [
    "# 10.3 Classical mechanics"
   ]
  },
  {
   "cell_type": "markdown",
   "metadata": {},
   "source": [
    "# chaos in classical mechanics...\n",
    "- recall: two-body problem not chaotic\n",
    "- not three (or more can be) many-body problem"
   ]
  },
  {
   "cell_type": "markdown",
   "metadata": {},
   "source": [
    "# Another interesting application chaos in the solar system\n",
    "- orbits of Pluto, Mars\n",
    "- Kirkwood gaps\n",
    "- rotation of Hypersion & other satellites\n",
    "- ..."
   ]
  },
  {
   "cell_type": "markdown",
   "metadata": {},
   "source": [
    "# Another interesting application:\n",
    "# chaos in the solar system\n",
    "    - orbits of Pluto, mars\n",
    "    - Kirkwood gaps\n",
    "    - rotation hyperion & other satellites"
   ]
  },
  {
   "cell_type": "markdown",
   "metadata": {},
   "source": [
    "# Section Quiz 10.3"
   ]
  },
  {
   "cell_type": "markdown",
   "metadata": {},
   "source": [
    "# Q1. All satellites in the solar system -- and elsewhere in the universe -- have tumbled chaotically at some point in their existence (except those that are perfectly spherical and on perfectly circular orbits).\n",
    "## Answer: True"
   ]
  },
  {
   "cell_type": "markdown",
   "metadata": {},
   "source": [
    "# Q2. Two-body systems cannot be chaotic.\n",
    "## True."
   ]
  },
  {
   "cell_type": "markdown",
   "metadata": {},
   "source": [
    "# Q3. The following are examples of chaos in the solar system:"
   ]
  },
  {
   "cell_type": "markdown",
   "metadata": {},
   "source": [
    "#  A. The fact that the moon's rotational period is 'locked' to its orbital period, so the same side of it always faces the earth.\n",
    "# B. The orbit of Pluto.\n",
    "# C. The existence of at least one of the Kirkwood gaps.\n",
    "# D. All of the above.\n",
    "# E. A & B\n",
    "# F. A & C\n",
    "# G. B & C\n",
    "# Answer: G. B & C"
   ]
  },
  {
   "cell_type": "markdown",
   "metadata": {},
   "source": [
    "# 10.4 Music and dance\n",
    "## Music and chaos\n",
    "## Music and Body movement\n",
    "## Chaos and words"
   ]
  },
  {
   "cell_type": "code",
   "execution_count": null,
   "metadata": {},
   "outputs": [],
   "source": []
  }
 ],
 "metadata": {
  "anaconda-cloud": {},
  "kernelspec": {
   "display_name": "Python [conda env:python3]",
   "language": "python",
   "name": "conda-env-python3-py"
  },
  "language_info": {
   "codemirror_mode": {
    "name": "ipython",
    "version": 3
   },
   "file_extension": ".py",
   "mimetype": "text/x-python",
   "name": "python",
   "nbconvert_exporter": "python",
   "pygments_lexer": "ipython3",
   "version": "3.6.0"
  }
 },
 "nbformat": 4,
 "nbformat_minor": 2
}
