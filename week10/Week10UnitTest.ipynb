{
 "cells": [
  {
   "cell_type": "markdown",
   "metadata": {},
   "source": [
    "# Q1. The UC Santa Cruz Chaos Cabal's prediction strategy for roulette was one of the first applications of delay-coordinate embedding.\n",
    "## Answer: False"
   ]
  },
  {
   "cell_type": "markdown",
   "metadata": {},
   "source": [
    "# Q2. The basic model in the UC Santa Cruz Chaos Cabal's prediction strategy for roulette was...\n",
    "## An ARMA (\"autoregressive moving average\") model.\n",
    "## Linear models built in small patches of the embedded trajectory.\n",
    "## Lorenz's method of analogues.\n",
    "## A linear model of the embedded trajectory. \n",
    "## A neural net.\n",
    "## Answer: "
   ]
  },
  {
   "cell_type": "markdown",
   "metadata": {},
   "source": [
    "# Q3. Why is it useful to embed scalar time-series data before building a prediction model of a deterministic dynamical system?"
   ]
  },
  {
   "cell_type": "markdown",
   "metadata": {},
   "source": [
    "## It exposes the temporal patterns in spatial form.\n",
    "## If you don't do that, the false crossings created by the projection involved in the measurement can make your predictions wrong.\n",
    "## Both of the above.\n",
    "## Neither of the above.\n",
    "## Answer: Both of the above."
   ]
  },
  {
   "cell_type": "markdown",
   "metadata": {},
   "source": [
    "# Q4. How can you modify Lorenz's method of analogues to make it less sensitive to noise when working with chaotic systems?\n",
    "## Use a low-pass filter on the data first.\n",
    "## Rather than looking for each point's nearest neighbor and using the forward image of that point as the forecast, look for a bunch of nearest neighbors and average their forward images.\n",
    "## Run it on lots of different points and average the resulting forecasts.\n",
    "## Answer: "
   ]
  },
  {
   "cell_type": "markdown",
   "metadata": {},
   "source": [
    "# Q5. If a feedback controller like a thermostat uses positive feedback, what will the results be?\n",
    "## The system state will saturate.\n",
    "## The system state will stabilize at the desired setpoint.\n",
    "## The system state will oscillate.\n",
    "## Answer: The system state will saturate."
   ]
  },
  {
   "cell_type": "markdown",
   "metadata": {},
   "source": [
    "# Q6. OGY control can be used to stabilize a chaotic system at any point in its state space.\n",
    "## Answer: True."
   ]
  },
  {
   "cell_type": "markdown",
   "metadata": {},
   "source": [
    "# Q7. OGY control employs local-linear control to stabilize a chaotic system at the desired destination.  What role does the denseness with which trajectories cover chaotic attractors play in OGY control?\n",
    "## Reachability: assuring that the system trajectory will get close enough to the desired destination so that the linear controller can grab & stabilize it.\n",
    "## Leverage: it's how you exploit sensitive dependence on initial conditions to get to the desired destination faster.\n",
    "## No role at all.\n",
    "## Answer: Reachability: assuring that the system trajectory will get close enough to the desired destination so that the linear controller can grab & stabilize it."
   ]
  },
  {
   "cell_type": "markdown",
   "metadata": {},
   "source": [
    "# Q8. What kinds of physical systems has OGY control been applied to?\n",
    "## Heart fibers.\n",
    "## Hippocampus cells.\n",
    "## Magnetoelastic ribbons.\n",
    "## Electronic circuits.\n",
    "## All of the above.\n",
    "## None of the above.\n",
    "## Answer: All of the above."
   ]
  },
  {
   "cell_type": "markdown",
   "metadata": {},
   "source": [
    "# Q10. What's an orrery?\n",
    "## A computer program that solves the ODEs that model how mass falls into a black hole.\n",
    "## A machine (physical or computational) that simulates the orbits of the planets in the solar system.\n",
    "## Something else.\n",
    "## Answer:"
   ]
  },
  {
   "cell_type": "code",
   "execution_count": null,
   "metadata": {},
   "outputs": [],
   "source": [
    "# Q11. Chaos is a potential explanation for the existence of at least one of the Kirkwood gaps in the asteroid belt between Mars and Jupiter.\n",
    "## Answer: "
   ]
  }
 ],
 "metadata": {
  "kernelspec": {
   "display_name": "Python [conda env:python3]",
   "language": "python",
   "name": "conda-env-python3-py"
  },
  "language_info": {
   "codemirror_mode": {
    "name": "ipython",
    "version": 3
   },
   "file_extension": ".py",
   "mimetype": "text/x-python",
   "name": "python",
   "nbconvert_exporter": "python",
   "pygments_lexer": "ipython3",
   "version": "3.6.0"
  }
 },
 "nbformat": 4,
 "nbformat_minor": 2
}
